{
 "cells": [
  {
   "cell_type": "markdown",
   "metadata": {},
   "source": [
    "### Описание\n",
    "\n",
    "Вторая попятка написать  программу для автоматической выборки **хороших** наблюдений.\n",
    "В основе данной программы будет лежать модуль scipy и имеющиеся в нем статистические модели.\n",
    "\n",
    "Условия выборки хороших наблюдений:\n",
    "\n",
    "+ Максимальная точка массива среднего профиля лежит в пределах границ среднего профиля, границы которого определяются посредством крорреляции с шаблоном.\n",
    "\n",
    "+ Тест Шапиро-Уилка должен подтверждать нормальность распределения значений шумовой дорожки.\n",
    "\n",
    "+ Максимальная точка в данных должна в 3.5(возможно 4) раза превышать СКО для шумовой дорожки. \n",
    "\n",
    "+ Минимальная точка в данных **не** должна в 3.5(возможно 4.5) раза превышать СКО для шумовой дорожки."
   ]
  },
  {
   "cell_type": "code",
   "execution_count": null,
   "metadata": {},
   "outputs": [],
   "source": [
    "reset"
   ]
  },
  {
   "cell_type": "code",
   "execution_count": 9,
   "metadata": {},
   "outputs": [],
   "source": [
    "import os\n",
    "import sys\n",
    "import glob\n",
    "import platform\n",
    "import numpy as np\n",
    "import pandas as pd\n",
    "import matplotlib.pyplot as plt\n",
    "from tqdm import tqdm_notebook\n",
    "from astropy.time import Time\n",
    "from scipy.interpolate import InterpolatedUnivariateSpline\n",
    "from scipy import stats\n",
    "import scipy as sp\n",
    "'''\n",
    "for style in plt.style.available[:4]:\n",
    "    plt.style.use(style)\n",
    "'''\n",
    "plt.style.use('dark_background')"
   ]
  },
  {
   "cell_type": "code",
   "execution_count": 13,
   "metadata": {},
   "outputs": [],
   "source": [
    "if 'Windows' in platform.platform() and '8.1' in platform.release():\n",
    "    _ = \"C:\\\\Users\\\\Andrey\\\\YandexDisk\\\\3.Programing\\\\\"\n",
    "    DATA_DIR = _ + \"work\\\\PulseViewer\\\\pulsarsData\\\\\"\n",
    "    PATTERN_DIR = _ + \"work\\\\PulseViewer\\\\frame_of_AP\\\\patterns\\\\\"\n",
    "    PACK_DIR = _ + \"myPacks\\\\\"\n",
    "    ALL_DATA = None\n",
    "    DELIMITER = \"\\\\\"\n",
    "\n",
    "elif 'Windows' in platform.platform() and '7' in platform.release():\n",
    "    _ = \"E:\\\\Disk.Yandex\\\\3.Programing\\\\\"\n",
    "    DATA_DIR = _ + \"work\\\\PulseViewer\\\\pulsarsData\\\\\"\n",
    "    PATTERN_DIR = _ + \"work\\\\PulseViewer\\\\frame_of_AP\\\\patterns\\\\\"\n",
    "    PACK_DIR = _ + \"myPacks\\\\\"\n",
    "    ALL_DATA = \"E:\\\\Disk.Yandex\\\\1.Работа\\\\Результаты обработки\\\\\"\n",
    "    DELIMITER = \"\\\\\"\n",
    "\n",
    "elif 'Windows' in platform.platform() and '10' in platform.release():\n",
    "    _ = \"F:\\\\YandexDisk\\\\3.Programing\\\\\"\n",
    "    DATA_DIR = _ + \"work\\\\PulseViewer\\\\pulsarsData\\\\\"\n",
    "    PATTERN_DIR = _ + \"work\\\\PulseViewer\\\\frame_of_AP\\\\patterns\\\\\"\n",
    "    PACK_DIR = _ + \"myPacks\\\\\"\n",
    "    ALL_DATA = \"F:\\\\YandexDisk\\\\1.Работа\\\\Результаты обработки\\\\\"\n",
    "    DELIMITER = \"\\\\\"\n",
    "    \n",
    "elif 'Linux' in platform.platform() and '4.4.0' in platform.release():\n",
    "    _ = \"/home/andr/Yandex.Disk/3.Programing/\"\n",
    "    DATA_DIR = _ + \"work/PulseViewer/pulsarsData/\"\n",
    "    PATTERN_DIR = _ + \"/work/PulseViewer/frame_of_AP/patterns/\"\n",
    "    PACK_DIR = _ + \"myPacks/\"\n",
    "    ALL_DATA = \"/home/andr/Yandex.Disk/1.Работа/Результаты обработки/\"\n",
    "    DELIMITER = \"/\"\n",
    "\n",
    "elif 'Linux' in platform.platform() and '4.1.18' in platform.release():\n",
    "    _ = '/storage/9C33-6BBD/'\n",
    "    DATA_DIR = None\n",
    "    PATTERN_DIR = _ + 'git_projects/pattern_profiles/'\n",
    "    PACK_DIR = _ + 'git_projects/PRAO_module/'\n",
    "    DELIMITER = '/'\n",
    "else:\n",
    "    print('unknown system', platform.platform(), platform.release())\n",
    "    \n",
    "\n",
    "sys.path.append(PACK_DIR)\n",
    "from PRAO import *"
   ]
  },
  {
   "cell_type": "code",
   "execution_count": 5,
   "metadata": {},
   "outputs": [],
   "source": [
    "files = sorted(glob.glob('all_data/*profiles.txt'))"
   ]
  },
  {
   "cell_type": "code",
   "execution_count": 6,
   "metadata": {},
   "outputs": [],
   "source": [
    "header, main_profile, data_pulses, back = read_profiles(files[51])"
   ]
  },
  {
   "cell_type": "code",
   "execution_count": 21,
   "metadata": {},
   "outputs": [
    {
     "data": {
      "image/png": "[encoded data removed]",
      "text/plain": [
       "<Figure size 432x288 with 1 Axes>"
      ]
     },
     "metadata": {
      "needs_background": "dark"
     },
     "output_type": "display_data"
    }
   ],
   "source": [
    "%matplotlib inline\n",
    "plt.close()\n",
    "plt.plot(np.roll(main_profile, 100 - np.argmax(main_profile)))\n",
    "plt.show()"
   ]
  },
  {
   "cell_type": "code",
   "execution_count": 14,
   "metadata": {},
   "outputs": [],
   "source": [
    "pattern = np.loadtxt(PATTERN_DIR + DELIMITER + header['name'] + '_' +\n",
    "                     header['tay'] + '.csv',  skiprows=4) \n",
    "l_edge, r_edge = edgesOprofile(main_profile, pattern)\n",
    "noise = np.append(main_profile[:l_edge], main_profile[r_edge:])"
   ]
  },
  {
   "cell_type": "markdown",
   "metadata": {},
   "source": [
    "### Попытка фитирования шума"
   ]
  },
  {
   "cell_type": "code",
   "execution_count": 15,
   "metadata": {},
   "outputs": [],
   "source": [
    "fp, residuals, rank, sv, rcond = np.polyfit(range(len(noise)), noise, 1, full=True)"
   ]
  },
  {
   "cell_type": "code",
   "execution_count": 16,
   "metadata": {},
   "outputs": [],
   "source": [
    "f = np.poly1d(fp)"
   ]
  },
  {
   "cell_type": "code",
   "execution_count": 17,
   "metadata": {},
   "outputs": [
    {
     "name": "stdout",
     "output_type": "stream",
     "text": [
      " \n",
      "4.867e-05 x - 0.1407\n"
     ]
    }
   ],
   "source": [
    "print(f)"
   ]
  },
  {
   "cell_type": "code",
   "execution_count": 19,
   "metadata": {},
   "outputs": [
    {
     "name": "stdout",
     "output_type": "stream",
     "text": [
      "[3.25672217]\n"
     ]
    }
   ],
   "source": [
    "print(residuals)"
   ]
  },
  {
   "cell_type": "code",
   "execution_count": 20,
   "metadata": {},
   "outputs": [
    {
     "data": {
      "image/png": "[encoded data removed]",
      "text/plain": [
       "<Figure size 432x288 with 1 Axes>"
      ]
     },
     "metadata": {},
     "output_type": "display_data"
    }
   ],
   "source": [
    "fx = range(len(noise))\n",
    "plt.close()\n",
    "plt.title(f)\n",
    "plt.plot(fx, f(fx), linewidth=2, color='r')\n",
    "plt.plot(noise)\n",
    "plt.show()"
   ]
  },
  {
   "cell_type": "code",
   "execution_count": 90,
   "metadata": {},
   "outputs": [
    {
     "data": {
      "text/plain": [
       "(0.9928853511810303, 0.6332384347915649)"
      ]
     },
     "execution_count": 90,
     "metadata": {},
     "output_type": "execute_result"
    }
   ],
   "source": [
    "stats.shapiro(noise)"
   ]
  },
  {
   "cell_type": "code",
   "execution_count": 38,
   "metadata": {},
   "outputs": [
    {
     "name": "stdout",
     "output_type": "stream",
     "text": [
      "060313_1237+25_00_profiles.txt\n",
      "080313_1237+25_00_profiles.txt\n",
      "140113_1112+50_00_profiles.txt\n",
      "160915_1133+16_00_profiles.txt\n",
      "260417_0950+08_00_profiles.txt\n",
      "290517_0950+08_00_profiles.txt\n"
     ]
    },
    {
     "data": {
      "image/png": "[encoded data removed]",
      "text/plain": [
       "<Figure size 432x288 with 1 Axes>"
      ]
     },
     "metadata": {},
     "output_type": "display_data"
    }
   ],
   "source": [
    "for idx, file in enumerate(files):\n",
    "    try:\n",
    "        header, main_profile, data_pulses, back = read_profiles(file)\n",
    "        \n",
    "        main_profile -= np.median(main_profile)\n",
    "        #main_profile = np.roll(main_profile, int(int(header['numpointwin'])/2) - np.argmax(main_profile))\n",
    "        main_profile /= np.max(main_profile)\n",
    "        \n",
    "        pattern = np.loadtxt(PATTERN_DIR + DELIMITER + header['name'] + '_' +\n",
    "                         header['tay'] + '.csv',  skiprows=4) a\n",
    "        l_edge, r_edge = edgesOprofile(main_profile, pattern)\n",
    "        noise = np.append(main_profile[:l_edge], main_profile[r_edge:])\n",
    "        \n",
    "        intersection = np.argwhere(np.diff(np.sign(main_profile - 0.5*np.max(main_profile)))).flatten()\n",
    "        pulses = str(len(intersection)/2)\n",
    "        \n",
    "        fp, residuals, rank, sv, rcond = np.polyfit(range(len(noise)), noise, 1, full=True)\n",
    "        f = np.poly1d(fp)\n",
    "        \n",
    "        cond_1 = float(pulses) <=10\n",
    "        cond_2 = abs(round(np.median(noise) - np.mean(noise), 4)) <= 0.0055\n",
    "        cond_3 = round(SNR(main_profile, l_edge, r_edge), 1) >= 3.5\n",
    "        cond_4 = abs(round(f[0], 5)) < 0.05\n",
    "        \n",
    "        \n",
    "        \n",
    "        plt.close()\n",
    "        \n",
    "        if cond_1 and cond_2 and cond_3 and cond_4:\n",
    "            plt.title('good')\n",
    "        else:\n",
    "            plt.title('bad')\n",
    "            \n",
    "        plt.plot(main_profile)\n",
    "        plt.axvline(l_edge, color='r')\n",
    "        plt.axvline(r_edge, color='r')\n",
    "        plt.axhline(0.5*np.max(main_profile))\n",
    "        plt.savefig('./plot_stat_shapiro/' + str(idx) + '.png', format='png', dpi=150)\n",
    "    except OSError:\n",
    "        print(file)\n",
    "    except ValueError:\n",
    "        print(file)"
   ]
  },
  {
   "cell_type": "code",
   "execution_count": 63,
   "metadata": {},
   "outputs": [],
   "source": [
    "pulsar_name = '1112+50'\n",
    "global_dir_pulsar = ALL_DATA + pulsar_name + os.sep"
   ]
  },
  {
   "cell_type": "code",
   "execution_count": 64,
   "metadata": {},
   "outputs": [
    {
     "data": {
      "text/plain": [
       "'F:\\\\YandexDisk\\\\1.Работа\\\\Результаты обработки\\\\1112+50\\\\'"
      ]
     },
     "execution_count": 64,
     "metadata": {},
     "output_type": "execute_result"
    }
   ],
   "source": [
    "global_dir_pulsar"
   ]
  },
  {
   "cell_type": "code",
   "execution_count": 65,
   "metadata": {},
   "outputs": [],
   "source": [
    "global_files = sorted(glob.glob(global_dir_pulsar + '20*' + os.sep + '*' + os.sep + '*_profiles.txt'))"
   ]
  },
  {
   "cell_type": "code",
   "execution_count": 66,
   "metadata": {},
   "outputs": [
    {
     "data": {
      "text/plain": [
       "2070"
      ]
     },
     "execution_count": 66,
     "metadata": {},
     "output_type": "execute_result"
    }
   ],
   "source": [
    "len(global_files)"
   ]
  },
  {
   "cell_type": "code",
   "execution_count": 67,
   "metadata": {},
   "outputs": [],
   "source": [
    "def quality_data(profile, l_edge, r_edge):\n",
    "    \"\"\"\n",
    "    Function for checking average profile for qood or bad data. \n",
    "    Input: average profile, left edge, rigtht edge\n",
    "    Output: True if average profile is good or False if bad \n",
    "    \n",
    "    \"\"\"\n",
    "       \n",
    "    profile -= np.median(profile)\n",
    "    #main_profile = np.roll(main_profile, int(int(header['numpointwin'])/2) - np.argmax(main_profile))\n",
    "    profile /= np.max(profile)\n",
    "    \n",
    "    noise = np.append(profile[:l_edge], profile[r_edge:])\n",
    "        \n",
    "    intersection = np.argwhere(np.diff(np.sign(profile - 0.5*np.max(profile)))).flatten()\n",
    "    pulses = str(len(intersection)/2)\n",
    "        \n",
    "    fp, residuals, rank, sv, rcond = np.polyfit(range(len(noise)), noise, 1, full=True)\n",
    "    f = np.poly1d(fp)\n",
    "        \n",
    "    cond_1 = float(pulses) <=10\n",
    "    cond_2 = abs(round(np.median(noise) - np.mean(noise), 4)) <= 0.0055\n",
    "    cond_3 = round(SNR(profile, l_edge, r_edge), 1) >= 3.5\n",
    "    cond_4 = abs(round(f[0], 5)) < 0.05\n",
    "        \n",
    "    if cond_1 and cond_2 and cond_3 and cond_4:\n",
    "        return True\n",
    "    else:\n",
    "        return False"
   ]
  },
  {
   "cell_type": "code",
   "execution_count": 73,
   "metadata": {},
   "outputs": [
    {
     "data": {
      "application/vnd.jupyter.widget-view+json": {
       "model_id": "752f5c41c1ee48ff83c33963b611ad45",
       "version_major": 2,
       "version_minor": 0
      },
      "text/plain": [
       "HBox(children=(IntProgress(value=0, max=54), HTML(value='')))"
      ]
     },
     "metadata": {},
     "output_type": "display_data"
    },
    {
     "data": {
      "image/png": "[encoded data removed]",
      "text/plain": [
       "<Figure size 432x288 with 1 Axes>"
      ]
     },
     "metadata": {},
     "output_type": "display_data"
    }
   ],
   "source": [
    "for file in tqdm_notebook(global_files[2016:]):\n",
    "    try:\n",
    "        header, main_profile, data_pulses, back = read_profiles(file)\n",
    "        pattern = np.loadtxt(\n",
    "            PATTERN_DIR\n",
    "            + DELIMITER\n",
    "            + header['name']\n",
    "            + '_'\n",
    "            + header['tay']\n",
    "            + '.csv',  skiprows=4)\n",
    "        \n",
    "        l_edge, r_edge = edgesOprofile(main_profile, pattern)\n",
    "        \n",
    "        plt.close()\n",
    "        plt.plot(main_profile)\n",
    "        plt.axvline(l_edge, color='r')\n",
    "        plt.axvline(r_edge, color='r')\n",
    "        \n",
    "        if gb_data(main_profile, l_edge, r_edge):\n",
    "            plt.savefig(\n",
    "                './global_test_pic/yes/'\n",
    "                + os.path.basename(file)[:-4]\n",
    "                + '.png', format='png')\n",
    "        else:\n",
    "            plt.savefig(\n",
    "                './global_test_pic/no/'\n",
    "                + os.path.basename(file)[:-4]\n",
    "                + '.png', format='png')\n",
    "            \n",
    "    except ValueError:\n",
    "        with open('valerr.log', 'a') as f:\n",
    "            f.write(os.path.basename(file))\n",
    "            f.write('\\n')\n",
    "    except OSError:\n",
    "        with open('oserr.log', 'a') as f:\n",
    "            f.write(os.path.basename(file))\n",
    "            f.write('\\n')"
   ]
  },
  {
   "cell_type": "code",
   "execution_count": 57,
   "metadata": {},
   "outputs": [
    {
     "data": {
      "text/plain": [
       "'200112_1237+25_00_profiles'"
      ]
     },
     "execution_count": 57,
     "metadata": {},
     "output_type": "execute_result"
    }
   ],
   "source": [
    "os.path.basename(global_files[0][:-4])"
   ]
  },
  {
   "cell_type": "code",
   "execution_count": null,
   "metadata": {},
   "outputs": [],
   "source": []
  }
 ],
 "metadata": {
  "kernelspec": {
   "display_name": "Python 3",
   "language": "python",
   "name": "python3"
  },
  "language_info": {
   "codemirror_mode": {
    "name": "ipython",
    "version": 3
   },
   "file_extension": ".py",
   "mimetype": "text/x-python",
   "name": "python",
   "nbconvert_exporter": "python",
   "pygments_lexer": "ipython3",
   "version": "3.6.2"
  }
 },
 "nbformat": 4,
 "nbformat_minor": 2
}

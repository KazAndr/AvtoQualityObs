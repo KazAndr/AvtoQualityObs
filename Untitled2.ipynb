{
 "cells": [
  {
   "cell_type": "markdown",
   "metadata": {},
   "source": [
    "### Описание\n",
    "\n",
    "Тестовая программа для автоматической выборки **хороших** наблюдений.\n",
    "\n",
    "Условия выборки хороших наблюдений:\n",
    "\n",
    "+ Максимальная точка массива среднего профиля лежит в пределах границ среднего профиля.\n",
    "\n",
    "+ Мадианное расчитанное в перелах шума с высокой степенью точности должно совпадать со средним\n",
    "значением по шуму и для среднего профиля должно быть равно ~ 0.\n",
    "\n",
    "+ Максимальная точка в данных должна в 3.5(возможно 4) раза превышать СКО для шумовой дорожки. \n",
    "\n",
    "+ Минимальная точка в данных **не** должна в 3.5(возможно 4.5) раза превышать СКО для шумовой дорожки.\n",
    "\n",
    "+ Среднее по разным частям шумовой дорожки должно совпадать с высокой точностью\n",
    "\n"
   ]
  },
  {
   "cell_type": "code",
   "execution_count": 101,
   "metadata": {},
   "outputs": [
    {
     "name": "stdout",
     "output_type": "stream",
     "text": [
      "Once deleted, variables cannot be recovered. Proceed (y/[n])? y\n"
     ]
    }
   ],
   "source": [
    "reset"
   ]
  },
  {
   "cell_type": "code",
   "execution_count": 102,
   "metadata": {},
   "outputs": [],
   "source": [
    "import os\n",
    "import sys\n",
    "import glob\n",
    "import platform\n",
    "import numpy as np\n",
    "import pandas as pd\n",
    "import matplotlib.pyplot as plt\n",
    "from tqdm import tqdm_notebook\n",
    "from astropy.time import Time\n",
    "from scipy.interpolate import InterpolatedUnivariateSpline\n",
    "'''\n",
    "for style in plt.style.available[:4]:\n",
    "    plt.style.use(style)\n",
    "'''\n",
    "plt.style.use('dark_background')"
   ]
  },
  {
   "cell_type": "code",
   "execution_count": 103,
   "metadata": {},
   "outputs": [],
   "source": [
    "if 'Windows' in platform.platform() and '8.1' in platform.release():\n",
    "    _ = \"C:\\\\Users\\\\Andrey\\\\YandexDisk\\\\3.Programing\\\\\"\n",
    "    DATA_DIR = _ + \"work\\\\PulseViewer\\\\pulsarsData\\\\\"\n",
    "    PATTERN_DIR = _ + \"work\\\\PulseViewer\\\\frame_of_AP\\\\patterns\\\\\"\n",
    "    PACK_DIR = _ + \"myPacks\\\\\"\n",
    "    ALL_DATA = None\n",
    "    DELIMITER = \"\\\\\"\n",
    "\n",
    "elif 'Windows' in platform.platform() and '7' in platform.release():\n",
    "    _ = \"E:\\\\Disk.Yandex\\\\3.Programing\\\\\"\n",
    "    DATA_DIR = _ + \"work\\\\PulseViewer\\\\pulsarsData\\\\\"\n",
    "    PATTERN_DIR = _ + \"work\\\\PulseViewer\\\\frame_of_AP\\\\patterns\\\\\"\n",
    "    PACK_DIR = _ + \"myPacks\\\\\"\n",
    "    ALL_DATA = \"E:\\\\Disk.Yandex\\\\1.Работа\\\\Результаты обработки\\\\\"\n",
    "    DELIMITER = \"\\\\\"\n",
    "\n",
    "elif 'Windows' in platform.platform() and '10' in platform.release():\n",
    "    _ = \"F:\\\\YandexDisk\\\\3.Programing\\\\\"\n",
    "    DATA_DIR = _ + \"work\\\\PulseViewer\\\\pulsarsData\\\\\"\n",
    "    PATTERN_DIR = _ + \"work\\\\PulseViewer\\\\frame_of_AP\\\\patterns\\\\\"\n",
    "    PACK_DIR = _ + \"myPacks\\\\\"\n",
    "    ALL_DATA = \"F:\\\\YandexDisk\\\\1.Работа\\\\Результаты обработки\\\\\"\n",
    "    DELIMITER = \"\\\\\"\n",
    "    \n",
    "elif 'Linux' in platform.platform() and '4.4.0' in platform.release():\n",
    "    _ = \"/home/andr/Yandex.Disk/3.Programing/\"\n",
    "    DATA_DIR = _ + \"work/PulseViewer/pulsarsData/\"\n",
    "    PATTERN_DIR = _ + \"/work/PulseViewer/frame_of_AP/patterns/\"\n",
    "    PACK_DIR = _ + \"myPacks/\"\n",
    "    ALL_DATA = \"/home/andr/Yandex.Disk/1.Работа/Результаты обработки/\"\n",
    "    DELIMITER = \"/\"\n",
    "    \n",
    "else:\n",
    "    print('unknown system', platform.platform(), platform.release())\n",
    "    \n",
    "TEST_PIC = 'pic'\n",
    "sys.path.append(PACK_DIR)\n",
    "from PRAO import *"
   ]
  },
  {
   "cell_type": "code",
   "execution_count": 104,
   "metadata": {},
   "outputs": [],
   "source": [
    "files = sorted(glob.glob('*profiles.txt'))"
   ]
  },
  {
   "cell_type": "code",
   "execution_count": 187,
   "metadata": {},
   "outputs": [],
   "source": [
    "header, main_profile, data_pulses, back = read_profiles(files[55])"
   ]
  },
  {
   "cell_type": "code",
   "execution_count": 188,
   "metadata": {},
   "outputs": [
    {
     "data": {
      "image/png": "[encoded data removed]",
      "text/plain": [
       "<Figure size 432x288 with 1 Axes>"
      ]
     },
     "metadata": {},
     "output_type": "display_data"
    }
   ],
   "source": [
    "plt.close()\n",
    "plt.plot(main_profile)\n",
    "plt.show()"
   ]
  },
  {
   "cell_type": "code",
   "execution_count": 189,
   "metadata": {},
   "outputs": [],
   "source": [
    "pattern = np.loadtxt(PATTERN_DIR + DELIMITER + header['name'] + '.csv',  skiprows=4) \n",
    "l_edge, r_edge = edgesOprofile(main_profile, pattern)\n",
    "noise = np.append(main_profile[:l_edge], main_profile[r_edge:])"
   ]
  },
  {
   "cell_type": "code",
   "execution_count": 190,
   "metadata": {},
   "outputs": [
    {
     "data": {
      "text/plain": [
       "-35.99728235296078"
      ]
     },
     "execution_count": 190,
     "metadata": {},
     "output_type": "execute_result"
    }
   ],
   "source": [
    "sum(noise)"
   ]
  },
  {
   "cell_type": "code",
   "execution_count": 184,
   "metadata": {},
   "outputs": [],
   "source": [
    "noise_1, noise_2, noise_3, noise_4, noise_5, noise_6 = (noise[:int(len(noise)/6)],\n",
    "                                                        noise[int(len(noise)/6):int(len(noise)/3)],\n",
    "                                                        noise[int(len(noise)/3):int(len(noise)/2)],\n",
    "                                                        noise[int(len(noise)/2):int(len(noise)/1.5)],\n",
    "                                                        noise[int(len(noise)/1.5):int(len(noise)/1.2)],\n",
    "                                                        noise[int(len(noise)/1.2):]\n",
    "                                         )"
   ]
  },
  {
   "cell_type": "code",
   "execution_count": 185,
   "metadata": {},
   "outputs": [
    {
     "data": {
      "text/plain": [
       "262"
      ]
     },
     "execution_count": 185,
     "metadata": {},
     "output_type": "execute_result"
    }
   ],
   "source": [
    "int(len(noise)/1.5)"
   ]
  },
  {
   "cell_type": "code",
   "execution_count": 191,
   "metadata": {},
   "outputs": [
    {
     "name": "stdout",
     "output_type": "stream",
     "text": [
      "0.0 0.0 0.1 0.1 0.0 0.1\n",
      "True\n",
      "-0.1\n"
     ]
    }
   ],
   "source": [
    "a = round(np.mean(abs(noise_1)), 1)\n",
    "b = round(np.mean(abs(noise_2)), 1)\n",
    "c = round(np.mean(abs(noise_3)), 1)\n",
    "d = round(np.mean(abs(noise_4)), 1)\n",
    "e = round(np.mean(abs(noise_5)), 1)\n",
    "f = round(np.mean(abs(noise_6)), 1)\n",
    "print(a, b, c, d, e, f)\n",
    "print(-0.2 <= round(a - b + c - d + e - f, 1) <= 0.2 )\n",
    "print(round(a - b + c - d + e - f, 1))"
   ]
  },
  {
   "cell_type": "code",
   "execution_count": 112,
   "metadata": {},
   "outputs": [],
   "source": [
    "pattern = np.loadtxt(PATTERN_DIR + DELIMITER + '1237+25' + '.csv',  skiprows=4) "
   ]
  },
  {
   "cell_type": "code",
   "execution_count": 113,
   "metadata": {},
   "outputs": [],
   "source": [
    "l_edge, r_edge = edgesOprofile(main_profile, pattern)"
   ]
  },
  {
   "cell_type": "code",
   "execution_count": 179,
   "metadata": {},
   "outputs": [
    {
     "data": {
      "application/vnd.jupyter.widget-view+json": {
       "model_id": "05c890682e374a09b7add3e26cb62e3d",
       "version_major": 2,
       "version_minor": 0
      },
      "text/plain": [
       "HBox(children=(IntProgress(value=0, max=200), HTML(value='')))"
      ]
     },
     "metadata": {},
     "output_type": "display_data"
    },
    {
     "data": {
      "image/png": "[encoded data removed]",
      "text/plain": [
       "<Figure size 432x288 with 1 Axes>"
      ]
     },
     "metadata": {},
     "output_type": "display_data"
    }
   ],
   "source": [
    "yes_ar = []\n",
    "no_ar = []\n",
    "for name in tqdm_notebook(files):\n",
    "    header, main_profile, data_pulses, back = read_profiles(name)\n",
    "    pattern = np.loadtxt(PATTERN_DIR + DELIMITER + header['name'] + '.csv',  skiprows=4) \n",
    "    l_edge, r_edge = edgesOprofile(main_profile, pattern)\n",
    "    noise = np.append(main_profile[:l_edge], main_profile[r_edge:])\n",
    "    \n",
    "    noise_1, noise_2, noise_3, noise_4, noise_5, noise_6 = (noise[:int(len(noise)/6)],\n",
    "                                                        noise[int(len(noise)/6):int(len(noise)/3)],\n",
    "                                                        noise[int(len(noise)/3):int(len(noise)/2)],\n",
    "                                                        noise[int(len(noise)/2):int(len(noise)/1.5)],\n",
    "                                                        noise[int(len(noise)/1.5):int(len(noise)/1.2)],\n",
    "                                                        noise[int(len(noise)/1.2):]\n",
    "                                         )\n",
    "    \n",
    "    a = round(np.mean(abs(noise_1)), 1)\n",
    "    b = round(np.mean(abs(noise_2)), 1)\n",
    "    c = round(np.mean(abs(noise_3)), 1)\n",
    "    d = round(np.mean(abs(noise_4)), 1)\n",
    "    e = round(np.mean(abs(noise_5)), 1)\n",
    "    f = round(np.mean(abs(noise_6)), 1)\n",
    "    \n",
    "    cond_1 = l_edge < np.argmax(main_profile) < r_edge \n",
    "    cond_2 = round(np.median(noise) - np.mean(noise), 2) <= 0.03 \n",
    "    cond_3 = max(main_profile)/np.std(noise) > 3.5\n",
    "    cond_4 = (min(main_profile) > np.mean(noise)-5*np.std(noise))\n",
    "    cond_5 = (-0.2 <= round(a - b + c - d + e - f, 1) <= 0.2) \n",
    "    cond_6 = max(noise) < 6*np.std(noise)\n",
    "    \n",
    "    plt.close()\n",
    "    plt.plot(main_profile)\n",
    "    plt.axvline(l_edge)\n",
    "    plt.axvline(r_edge)\n",
    "    plt.axvline(np.argmax(main_profile), color = 'red')\n",
    "    plt.axhline(np.mean(main_profile), color = 'green')\n",
    "    plt.axhline(np.median(main_profile), color = 'blue')\n",
    "    if cond_1 and cond_2 and cond_3 and cond_4 and cond_5 and cond_6:\n",
    "        plt.title('YES' + ' ' + str(files.index(name)))\n",
    "        #yes_ar.append(sum(noise)/len(noise))\n",
    "    else:\n",
    "        plt.title('NO' + ' ' + str(files.index(name)) + ' ' + str(cond_1) + ' ' + \n",
    "                  str(cond_2) + ' ' + str(cond_3) + \n",
    "                  ' ' + str(cond_4) + ' ' + str(cond_5) +\n",
    "                 ' ' + str(cond_6))\n",
    "        #no_ar.append(sum(noise)/len(noise))\n",
    "    plt.savefig(TEST_PIC + DELIMITER + name + '.png', format='png')\n"
   ]
  },
  {
   "cell_type": "code",
   "execution_count": 126,
   "metadata": {},
   "outputs": [
    {
     "data": {
      "text/plain": [
       "0.0"
      ]
     },
     "execution_count": 126,
     "metadata": {},
     "output_type": "execute_result"
    }
   ],
   "source": [
    "round(a - b + c - d, 1) "
   ]
  },
  {
   "cell_type": "code",
   "execution_count": 127,
   "metadata": {},
   "outputs": [
    {
     "data": {
      "text/plain": [
       "True"
      ]
     },
     "execution_count": 127,
     "metadata": {},
     "output_type": "execute_result"
    }
   ],
   "source": [
    "-0.2 <= round(a - b + c - d, 1) <= 0.2 "
   ]
  },
  {
   "cell_type": "code",
   "execution_count": 128,
   "metadata": {},
   "outputs": [
    {
     "data": {
      "text/plain": [
       "True"
      ]
     },
     "execution_count": 128,
     "metadata": {},
     "output_type": "execute_result"
    }
   ],
   "source": [
    "(min(main_profile) > np.median(noise)-5*np.std(noise))"
   ]
  },
  {
   "cell_type": "code",
   "execution_count": 129,
   "metadata": {},
   "outputs": [
    {
     "data": {
      "text/plain": [
       "-0.14753535947711782"
      ]
     },
     "execution_count": 129,
     "metadata": {},
     "output_type": "execute_result"
    }
   ],
   "source": [
    "min(main_profile)"
   ]
  },
  {
   "cell_type": "code",
   "execution_count": 130,
   "metadata": {},
   "outputs": [
    {
     "data": {
      "text/plain": [
       "-0.2324520517582801"
      ]
     },
     "execution_count": 130,
     "metadata": {},
     "output_type": "execute_result"
    }
   ],
   "source": [
    "np.median(noise)-5*np.std(noise)"
   ]
  },
  {
   "cell_type": "code",
   "execution_count": 131,
   "metadata": {},
   "outputs": [
    {
     "data": {
      "text/plain": [
       "-0.003"
      ]
     },
     "execution_count": 131,
     "metadata": {},
     "output_type": "execute_result"
    }
   ],
   "source": [
    "round(np.median(noise) - np.mean(noise), 3)"
   ]
  },
  {
   "cell_type": "code",
   "execution_count": 132,
   "metadata": {},
   "outputs": [
    {
     "data": {
      "text/plain": [
       "True"
      ]
     },
     "execution_count": 132,
     "metadata": {},
     "output_type": "execute_result"
    }
   ],
   "source": [
    "max(noise) < 6*np.std(noise)"
   ]
  },
  {
   "cell_type": "code",
   "execution_count": 133,
   "metadata": {},
   "outputs": [
    {
     "data": {
      "text/plain": [
       "0.09462581699348505"
      ]
     },
     "execution_count": 133,
     "metadata": {},
     "output_type": "execute_result"
    }
   ],
   "source": [
    "max(noise)"
   ]
  },
  {
   "cell_type": "code",
   "execution_count": 134,
   "metadata": {},
   "outputs": [
    {
     "data": {
      "text/plain": [
       "0.04272043649545203"
      ]
     },
     "execution_count": 134,
     "metadata": {},
     "output_type": "execute_result"
    }
   ],
   "source": [
    "np.std(noise)"
   ]
  },
  {
   "cell_type": "code",
   "execution_count": 135,
   "metadata": {},
   "outputs": [
    {
     "name": "stdout",
     "output_type": "stream",
     "text": [
      "True True True True True True True\n"
     ]
    }
   ],
   "source": [
    "cond_1 = l_edge < np.argmax(main_profile) < r_edge \n",
    "cond_2 = round(np.median(noise) - np.mean(noise), 2) <= 0.03 \n",
    "cond_3 = max(main_profile)/np.std(noise) > 3.5\n",
    "cond_4 = (min(main_profile) > np.mean(noise)-5*np.std(noise))\n",
    "cond_5 = (-0.2 <= round(a - b + c - d, 1) <= 0.2) \n",
    "cond_6 = max(noise) < 6*np.std(noise)\n",
    "print(cond_1, cond_2, cond_3, cond_4, cond_5, cond_6,\n",
    "     cond_1 and cond_2 and cond_3 and cond_4 and cond_5 and cond_6)"
   ]
  },
  {
   "cell_type": "code",
   "execution_count": 174,
   "metadata": {},
   "outputs": [
    {
     "data": {
      "text/plain": [
       "56.166666666666664"
      ]
     },
     "execution_count": 174,
     "metadata": {},
     "output_type": "execute_result"
    }
   ],
   "source": [
    "len(noise)/6"
   ]
  },
  {
   "cell_type": "code",
   "execution_count": 175,
   "metadata": {},
   "outputs": [],
   "source": [
    "noise_1, noise_2, noise_3, noise_4, noise_5, noise_6 = (noise[:int(len(noise)/6)],\n",
    "                                                        noise[int(len(noise)/6):int(len(noise)/3)],\n",
    "                                                        noise[int(len(noise)/3):int(len(noise)/2)],\n",
    "                                                        noise[int(len(noise)/2):int(len(noise)/1.5)],\n",
    "                                                        noise[int(len(noise)/1.5):int(len(noise)/1.2)],\n",
    "                                                        noise[int(len(noise)/1.2):]\n",
    "                                         )"
   ]
  },
  {
   "cell_type": "code",
   "execution_count": 176,
   "metadata": {},
   "outputs": [
    {
     "name": "stdout",
     "output_type": "stream",
     "text": [
      "56\n",
      "56\n",
      "56\n",
      "56\n",
      "56\n",
      "57\n"
     ]
    }
   ],
   "source": [
    "print(len(noise_1))\n",
    "print(len(noise_2))\n",
    "print(len(noise_3))\n",
    "print(len(noise_4))\n",
    "print(len(noise_5))\n",
    "print(len(noise_6))"
   ]
  },
  {
   "cell_type": "code",
   "execution_count": 177,
   "metadata": {},
   "outputs": [],
   "source": [
    "a = round(np.mean(abs(noise_1)), 1)\n",
    "b = round(np.mean(abs(noise_2)), 1)\n",
    "c = round(np.mean(abs(noise_3)), 1)\n",
    "d = round(np.mean(abs(noise_4)), 1)\n",
    "e = round(np.mean(abs(noise_5)), 1)\n",
    "f = round(np.mean(abs(noise_6)), 1)"
   ]
  },
  {
   "cell_type": "code",
   "execution_count": 178,
   "metadata": {},
   "outputs": [
    {
     "data": {
      "text/plain": [
       "False"
      ]
     },
     "execution_count": 178,
     "metadata": {},
     "output_type": "execute_result"
    }
   ],
   "source": [
    "-0.2 <= round(a - b + c - d + e - f, 1) <= 0.2 "
   ]
  },
  {
   "cell_type": "code",
   "execution_count": 134,
   "metadata": {},
   "outputs": [
    {
     "data": {
      "image/png": "[encoded data removed]",
      "text/plain": [
       "<Figure size 432x288 with 1 Axes>"
      ]
     },
     "metadata": {},
     "output_type": "display_data"
    }
   ],
   "source": [
    "plt.close()\n",
    "plt.plot(yes_ar)\n",
    "plt.show()"
   ]
  },
  {
   "cell_type": "code",
   "execution_count": 135,
   "metadata": {},
   "outputs": [
    {
     "data": {
      "image/png": "[encoded data removed]",
      "text/plain": [
       "<Figure size 432x288 with 1 Axes>"
      ]
     },
     "metadata": {},
     "output_type": "display_data"
    }
   ],
   "source": [
    "plt.close()\n",
    "plt.plot(no_ar)\n",
    "plt.show()"
   ]
  },
  {
   "cell_type": "code",
   "execution_count": 131,
   "metadata": {},
   "outputs": [
    {
     "data": {
      "text/plain": [
       "68.23752486187419"
      ]
     },
     "execution_count": 131,
     "metadata": {},
     "output_type": "execute_result"
    }
   ],
   "source": [
    "max(no_ar)"
   ]
  },
  {
   "cell_type": "code",
   "execution_count": 132,
   "metadata": {},
   "outputs": [
    {
     "data": {
      "text/plain": [
       "-56.53790795646154"
      ]
     },
     "execution_count": 132,
     "metadata": {},
     "output_type": "execute_result"
    }
   ],
   "source": [
    "min(yes_ar)"
   ]
  },
  {
   "cell_type": "markdown",
   "metadata": {},
   "source": [
    "### Global test"
   ]
  },
  {
   "cell_type": "code",
   "execution_count": 193,
   "metadata": {},
   "outputs": [],
   "source": [
    "name_pulsar = '0809+74'"
   ]
  },
  {
   "cell_type": "code",
   "execution_count": 194,
   "metadata": {},
   "outputs": [],
   "source": [
    "def quality_osr(main_pulse, l_edge, r_edge):\n",
    "    noise = np.append(main_profile[:l_edge], main_profile[r_edge:])\n",
    "    \n",
    "    noise_1, noise_2, noise_3, noise_4, noise_5, noise_6 = (noise[:int(len(noise)/6)],\n",
    "                                                        noise[int(len(noise)/6):int(len(noise)/3)],\n",
    "                                                        noise[int(len(noise)/3):int(len(noise)/2)],\n",
    "                                                        noise[int(len(noise)/2):int(len(noise)/1.5)],\n",
    "                                                        noise[int(len(noise)/1.5):int(len(noise)/1.2)],\n",
    "                                                        noise[int(len(noise)/1.2):]\n",
    "                                         )\n",
    "    \n",
    "    a = round(np.mean(abs(noise_1)), 1)\n",
    "    b = round(np.mean(abs(noise_2)), 1)\n",
    "    c = round(np.mean(abs(noise_3)), 1)\n",
    "    d = round(np.mean(abs(noise_4)), 1)\n",
    "    e = round(np.mean(abs(noise_5)), 1)\n",
    "    f = round(np.mean(abs(noise_6)), 1)\n",
    "    \n",
    "    cond_1 = l_edge < np.argmax(main_profile) < r_edge \n",
    "    cond_2 = round(np.median(noise) - np.mean(noise), 2) <= 0.03 \n",
    "    cond_3 = max(main_profile)/np.std(noise) > 3.5\n",
    "    cond_4 = (min(main_profile) > np.mean(noise)-5*np.std(noise))\n",
    "    cond_5 = (-0.2 <= round(a - b + c - d + e - f, 1) <= 0.2) \n",
    "    cond_6 = max(noise) < 4*np.std(noise)\n",
    "    if cond_1 and cond_2 and cond_3 and cond_4 and cond_5 and cond_6:\n",
    "        return True\n",
    "    else:\n",
    "        return False"
   ]
  },
  {
   "cell_type": "code",
   "execution_count": 195,
   "metadata": {},
   "outputs": [
    {
     "data": {
      "application/vnd.jupyter.widget-view+json": {
       "model_id": "c013fb23e8d34fb395c47f3353b17a8e",
       "version_major": 2,
       "version_minor": 0
      },
      "text/plain": [
       "HBox(children=(IntProgress(value=1, bar_style='info', max=1), HTML(value='')))"
      ]
     },
     "metadata": {},
     "output_type": "display_data"
    }
   ],
   "source": [
    "all_files =[]\n",
    "for path, dirs, files in tqdm_notebook(os.walk(ALL_DATA + name_pulsar + DELIMITER, topdown=False)):\n",
    "    files = [x for x in files if x[-13:] == \"_profiles.txt\" or  x[-5:] == \".srez\"] \n",
    "    all_files.extend(files)"
   ]
  },
  {
   "cell_type": "code",
   "execution_count": 196,
   "metadata": {},
   "outputs": [
    {
     "data": {
      "text/plain": [
       "743"
      ]
     },
     "execution_count": 196,
     "metadata": {},
     "output_type": "execute_result"
    }
   ],
   "source": [
    "len(all_files)"
   ]
  },
  {
   "cell_type": "code",
   "execution_count": 197,
   "metadata": {},
   "outputs": [
    {
     "data": {
      "application/vnd.jupyter.widget-view+json": {
       "model_id": "5dd42f572b6b43d9b0f59beaf281a431",
       "version_major": 2,
       "version_minor": 0
      },
      "text/plain": [
       "HBox(children=(IntProgress(value=0, max=743), HTML(value='')))"
      ]
     },
     "metadata": {},
     "output_type": "display_data"
    }
   ],
   "source": [
    "yes_name = []\n",
    "no_name = []\n",
    "for file in tqdm_notebook(all_files):\n",
    "    name_p = file[7:14]\n",
    "    year = file[4:6]\n",
    "    mo_year = file[2:6]\n",
    "    dir_for_file = (ALL_DATA + \n",
    "                    name_p + DELIMITER + \n",
    "                    '20' + year + DELIMITER + mo_year + \n",
    "                    DELIMITER + file)\n",
    "    header, main_profile, data_pulses, back = read_profiles(dir_for_file)\n",
    "    pattern = np.loadtxt(PATTERN_DIR + DELIMITER + header['name'] + '.csv',  skiprows=4) \n",
    "    l_edge, r_edge = edgesOprofile(main_profile, pattern)\n",
    "    \n",
    "    if quality_osr(main_profile, l_edge=l_edge, r_edge=r_edge):\n",
    "        yes_name.append(file)\n",
    "    else:\n",
    "        no_name.append(file)\n",
    "    "
   ]
  },
  {
   "cell_type": "code",
   "execution_count": 198,
   "metadata": {},
   "outputs": [
    {
     "data": {
      "text/plain": [
       "581"
      ]
     },
     "execution_count": 198,
     "metadata": {},
     "output_type": "execute_result"
    }
   ],
   "source": [
    "len(yes_name)"
   ]
  },
  {
   "cell_type": "code",
   "execution_count": 199,
   "metadata": {},
   "outputs": [
    {
     "data": {
      "text/plain": [
       "162"
      ]
     },
     "execution_count": 199,
     "metadata": {},
     "output_type": "execute_result"
    }
   ],
   "source": [
    "len(no_name)"
   ]
  },
  {
   "cell_type": "code",
   "execution_count": 12,
   "metadata": {},
   "outputs": [
    {
     "data": {
      "application/vnd.jupyter.widget-view+json": {
       "model_id": "cf46995205954ba397c1b33b86567a87",
       "version_major": 2,
       "version_minor": 0
      },
      "text/plain": [
       "HBox(children=(IntProgress(value=1, bar_style='info', max=1), HTML(value='')))"
      ]
     },
     "metadata": {},
     "output_type": "display_data"
    }
   ],
   "source": [
    "my_sample = []\n",
    "for path, dirs, files in tqdm_notebook(os.walk(\"F:\\\\0.processing_data\\\\data_0809\\\\Данные\\\\\", topdown=False)):\n",
    "    files = [x for x in files if x[-13:] == \"_profiles.txt\" or  x[-5:] == \".srez\"] \n",
    "    my_sample.extend(files)"
   ]
  },
  {
   "cell_type": "code",
   "execution_count": 13,
   "metadata": {},
   "outputs": [
    {
     "data": {
      "text/plain": [
       "588"
      ]
     },
     "execution_count": 13,
     "metadata": {},
     "output_type": "execute_result"
    }
   ],
   "source": [
    "len(my_sample)"
   ]
  },
  {
   "cell_type": "code",
   "execution_count": 14,
   "metadata": {},
   "outputs": [
    {
     "data": {
      "text/plain": [
       "'010114_0809+74_00_profiles.txt'"
      ]
     },
     "execution_count": 14,
     "metadata": {},
     "output_type": "execute_result"
    }
   ],
   "source": [
    "my_sample[0]"
   ]
  },
  {
   "cell_type": "code",
   "execution_count": 15,
   "metadata": {},
   "outputs": [
    {
     "data": {
      "text/plain": [
       "True"
      ]
     },
     "execution_count": 15,
     "metadata": {},
     "output_type": "execute_result"
    }
   ],
   "source": [
    " my_sample[0] in yes_name"
   ]
  },
  {
   "cell_type": "code",
   "execution_count": 16,
   "metadata": {},
   "outputs": [
    {
     "name": "stdout",
     "output_type": "stream",
     "text": [
      "020114_0809+74_00_profiles.txt\n",
      "020214_0809+74_00_profiles.txt\n",
      "030214_0809+74_00_profiles.txt\n",
      "040214_0809+74_00_profiles.txt\n",
      "060514_0809+74_00_profiles.txt\n",
      "130114_0809+74_00_profiles.txt\n",
      "140114_0809+74_00_profiles.txt\n",
      "150613_0809+74_00_profiles.txt\n",
      "151014_0809+74_00_profiles.txt\n",
      "151113_0809+74_00_profiles.txt\n",
      "160114_0809+74_00_profiles.txt\n",
      "160414_0809+74_00_profiles.txt\n",
      "161113_0809+74_00_profiles.txt\n",
      "170313_0809+74_00_profiles.txt\n",
      "170914_0809+74_00_profiles.txt\n",
      "171113_0809+74_00_profiles.txt\n",
      "190214_0809+74_00_profiles.txt\n",
      "191113_0809+74_00_profiles.txt\n",
      "200214_0809+74_00_profiles.txt\n",
      "200313_0809+74_00_profiles.txt\n",
      "200316_0809+74_00_profiles.txt\n",
      "200517_0809+74_00_profiles.txt\n",
      "201214_0809+74_00_profiles.txt\n",
      "210114_0809+74_00_profiles.txt\n",
      "210116_0809+74_00_profiles.txt\n",
      "210214_0809+74_00_profiles.txt\n",
      "210515_0809+74_00_profiles.txt\n",
      "211013_0809+74_00_profiles.txt\n",
      "211115_0809+74_00_profiles.txt\n",
      "220813_0809+74_00_profiles.txt\n",
      "221013_0809+74_00_profiles.txt\n",
      "221212_0809+74_00_profiles.txt\n",
      "221214_0809+74_00_profiles.txt\n",
      "230116_0809+74_00_profiles.txt\n",
      "230213_0809+74_00_profiles.txt\n",
      "230313_0809+74_00_profiles.txt\n",
      "230712_0809+74_00_profiles.txt\n",
      "240214_0809+74_00_profiles.txt\n",
      "240413_0809+74_00_profiles.txt\n",
      "240813_0809+74_00_profiles.txt\n",
      "241215_0809+74_00_profiles.txt\n",
      "250115_0809+74_00_profiles.txt\n",
      "250313_0809+74_00_profiles.txt\n",
      "250514_0809+74_00_profiles.txt\n",
      "251012_0809+74_00_profiles.txt\n",
      "251212_0809+74_00_profiles.txt\n",
      "260514_0809+74_00_profiles.txt\n",
      "260712_0809+74_00_profiles.txt\n",
      "261112_0809+74_00_profiles.txt\n",
      "270113_0809+74_00_profiles.txt\n",
      "270213_0809+74_00_profiles.txt\n",
      "270214_0809+74_00_profiles.txt\n",
      "270217_0809+74_00_profiles.txt\n",
      "270812_0809+74_00_profiles.txt\n",
      "270912_0809+74_00_profiles.txt\n",
      "271112_0809+74_00_profiles.txt\n",
      "271215_0809+74_00_profiles.txt\n",
      "280113_0809+74_00_profiles.txt\n",
      "280115_0809+74_00_profiles.txt\n",
      "281012_0809+74_00_profiles.txt\n",
      "281112_0809+74_00_profiles.txt\n",
      "290113_0809+74_01_profiles.txt\n",
      "290117_0809+74_00_profiles.txt\n",
      "290317_0809+74_00_profiles.txt\n",
      "290614_0809+74_00_profiles.txt\n",
      "290812_0809+74_00_profiles.txt\n",
      "290912_0809+74_00_profiles.txt\n",
      "290914_0809+74_00_profiles.txt\n",
      "291112_0809+74_00_profiles.txt\n",
      "291212_0809+74_00_profiles.txt\n",
      "291216_0809+74_00_profiles.txt\n",
      "300113_0809+74_00_profiles.txt\n",
      "300115_0809+74_00_profiles.txt\n",
      "301212_0809+74_00_profiles.txt\n",
      "301214_0809+74_00_profiles.txt\n",
      "301215_0809+74_00_profiles.txt\n",
      "301216_0809+74_00_profiles.txt\n"
     ]
    }
   ],
   "source": [
    "for samp in my_sample:\n",
    "    if samp in no_name:\n",
    "        print(samp)\n",
    "    else:\n",
    "        continue"
   ]
  },
  {
   "cell_type": "code",
   "execution_count": 30,
   "metadata": {},
   "outputs": [
    {
     "data": {
      "text/plain": [
       "'251012_0809+74_00_profiles.txt'"
      ]
     },
     "execution_count": 30,
     "metadata": {},
     "output_type": "execute_result"
    }
   ],
   "source": [
    "i += 1\n",
    "no_name[i]"
   ]
  },
  {
   "cell_type": "code",
   "execution_count": 24,
   "metadata": {},
   "outputs": [],
   "source": [
    "i = 0"
   ]
  },
  {
   "cell_type": "code",
   "execution_count": 34,
   "metadata": {},
   "outputs": [
    {
     "data": {
      "text/plain": [
       "True"
      ]
     },
     "execution_count": 34,
     "metadata": {},
     "output_type": "execute_result"
    }
   ],
   "source": [
    "'221012_0809+74_00_profiles.txt' in yes_name"
   ]
  },
  {
   "cell_type": "code",
   "execution_count": null,
   "metadata": {},
   "outputs": [],
   "source": []
  }
 ],
 "metadata": {
  "kernelspec": {
   "display_name": "Python 3",
   "language": "python",
   "name": "python3"
  },
  "language_info": {
   "codemirror_mode": {
    "name": "ipython",
    "version": 3
   },
   "file_extension": ".py",
   "mimetype": "text/x-python",
   "name": "python",
   "nbconvert_exporter": "python",
   "pygments_lexer": "ipython3",
   "version": "3.6.5"
  }
 },
 "nbformat": 4,
 "nbformat_minor": 2
}
